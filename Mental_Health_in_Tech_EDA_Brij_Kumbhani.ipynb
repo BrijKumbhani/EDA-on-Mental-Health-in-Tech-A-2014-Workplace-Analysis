{
  "nbformat": 4,
  "nbformat_minor": 0,
  "metadata": {
    "colab": {
      "private_outputs": true,
      "provenance": []
    },
    "kernelspec": {
      "name": "python3",
      "display_name": "Python 3"
    },
    "language_info": {
      "name": "python"
    }
  },
  "cells": [
    {
      "cell_type": "code",
      "source": [
        "    from google.colab import drive\n",
        "    drive.mount('/content/drive')"
      ],
      "metadata": {
        "id": "I1apcow5dxii"
      },
      "execution_count": null,
      "outputs": []
    },
    {
      "cell_type": "markdown",
      "source": [
        "# **Project Name**    - Mental Health in Tech: A 2014 Workplace Analysis\n",
        "\n"
      ],
      "metadata": {
        "id": "vncDsAP0Gaoa"
      }
    },
    {
      "cell_type": "markdown",
      "source": [
        "##### **Project Type**    - EDA\n",
        "##### **Contribution**    - Individual"
      ],
      "metadata": {
        "id": "beRrZCGUAJYm"
      }
    },
    {
      "cell_type": "markdown",
      "source": [
        "# **Project Summary -**"
      ],
      "metadata": {
        "id": "FJNUwmbgGyua"
      }
    },
    {
      "cell_type": "markdown",
      "source": [
        "In today’s fast-paced and demanding technology industry, the mental well-being of employees plays a crucial role in determining both individual productivity and organizational success. Despite increasing awareness, mental health issues often remain under-addressed in workplaces, especially in tech companies where long working hours, tight deadlines, and high job stress are common. This project focuses on performing an in-depth Exploratory Data Analysis (EDA) of a 2014 survey dataset that captures the prevalence of mental health challenges and attitudes toward mental health in tech workplaces across the globe.\n",
        "\n",
        "The dataset, originally collected by Open Sourcing Mental Illness (OSMI), contains detailed responses from technology employees about their personal mental health conditions, workplace support systems, and perceptions regarding mental health and physical health parity. It comprises features like age, gender, country, self-employment status, company size, mental health history, and whether the individual has sought treatment. It also covers workplace factors such as availability of mental health benefits, ease of taking medical leave, remote work frequency, and the presence of wellness programs. These attributes allow us to explore critical questions such as: What is the distribution of mental health issues across demographics? How do workplace policies influence treatment-seeking behavior? Are there regional differences in attitudes and support for mental health?\n",
        "\n",
        "Our business objective in this EDA is to uncover patterns and insights that can inform tech companies about gaps in their mental health support and identify opportunities to build a more inclusive, supportive work culture. This is particularly important as mental health issues not only affect individual employees but also impact team productivity, employee retention, and overall organizational health.\n",
        "\n",
        "To achieve this, we will first clean and preprocess the dataset by addressing outliers (such as unrealistic age entries), standardizing inconsistent gender responses, handling missing values, and converting data types where necessary. Following that, we will undertake comprehensive univariate, bivariate, and multivariate analyses. Univariate analyses will focus on understanding the basic distributions of demographic and workplace attributes. Bivariate and multivariate analyses will help identify relationships between workplace characteristics and mental health outcomes — for instance, how the presence of mental health benefits relates to whether employees seek treatment, or how ease of taking medical leave correlates with fear of workplace consequences.\n",
        "\n",
        "A key highlight of this EDA will be the creation of advanced and unique visualizations, including interactive country-level treatment rates, correlation heatmaps, and text mining on free-text comments. We will also derive new metrics such as a Mental Health Support Index that combines multiple features like benefits, care options, and wellness programs to provide a single score of workplace mental health friendliness. Such derived metrics will help identify regions, company types, or employee groups where interventions are most urgently needed.\n",
        "\n",
        "By the end of this project, we aim to deliver actionable insights that can guide tech companies in implementing or improving mental health policies. We will also reflect on the limitations of the dataset — such as the bias inherent in self-reported data — and propose directions for future work, including comparative studies using more recent surveys like OSMI’s 2016 dataset. The ultimate goal of this EDA is to use data-driven analysis to contribute to a healthier, more supportive environment for employees in the technology sector.\n",
        "\n"
      ],
      "metadata": {
        "id": "F6v_1wHtG2nS"
      }
    },
    {
      "cell_type": "markdown",
      "source": [
        "# **GitHub Link -**"
      ],
      "metadata": {
        "id": "w6K7xa23Elo4"
      }
    },
    {
      "cell_type": "markdown",
      "source": [
        "https://github.com/BrijKumbhani/EDA-on-Mental-Health-in-Tech-A-2014-Workplace-Analysis"
      ],
      "metadata": {
        "id": "h1o69JH3Eqqn"
      }
    },
    {
      "cell_type": "markdown",
      "source": [
        "# **Problem Statement**\n"
      ],
      "metadata": {
        "id": "yQaldy8SH6Dl"
      }
    },
    {
      "cell_type": "markdown",
      "source": [
        " Understand mental health trends in tech workplaces & workplace support systems."
      ],
      "metadata": {
        "id": "DpeJGUA3kjGy"
      }
    },
    {
      "cell_type": "markdown",
      "source": [
        "#### **Business Objective**"
      ],
      "metadata": {
        "id": "PH-0ReGfmX4f"
      }
    },
    {
      "cell_type": "markdown",
      "source": [
        "Help tech companies identify gaps and improve mental health support."
      ],
      "metadata": {
        "id": "PhDvGCAqmjP1"
      }
    },
    {
      "cell_type": "markdown",
      "source": [
        "# ***Let's Begin !***"
      ],
      "metadata": {
        "id": "O_i_v8NEhb9l"
      }
    },
    {
      "cell_type": "markdown",
      "source": [
        "## ***1. Know Your Data***"
      ],
      "metadata": {
        "id": "HhfV-JJviCcP"
      }
    },
    {
      "cell_type": "markdown",
      "source": [
        "### Import Libraries"
      ],
      "metadata": {
        "id": "Y3lxredqlCYt"
      }
    },
    {
      "cell_type": "code",
      "source": [
        "# Import Libraries\n",
        "\n",
        "try:\n",
        "    # Data manipulation\n",
        "    import pandas as pd\n",
        "    import numpy as np\n",
        "\n",
        "    # Visualization\n",
        "    import matplotlib.pyplot as plt\n",
        "    import seaborn as sns\n",
        "    import plotly.express as px  # For interactive charts\n",
        "    from wordcloud import WordCloud  # For text analysis\n",
        "\n",
        "    # Warnings\n",
        "    import warnings\n",
        "    warnings.filterwarnings(\"ignore\")\n",
        "\n",
        "    # Settings\n",
        "    sns.set(style=\"whitegrid\")\n",
        "    plt.rcParams[\"figure.figsize\"] = (10,6)\n",
        "\n",
        "    print(\"All libraries imported successfully!\")\n",
        "\n",
        "except ImportError as e:\n",
        "    print(f\"Error importing libraries: {e}\")\n",
        "    print(\"Please ensure all required libraries are installed.\")\n"
      ],
      "metadata": {
        "id": "M8Vqi-pPk-HR"
      },
      "execution_count": null,
      "outputs": []
    },
    {
      "cell_type": "markdown",
      "source": [
        "### Dataset Loading"
      ],
      "metadata": {
        "id": "3RnN4peoiCZX"
      }
    },
    {
      "cell_type": "code",
      "source": [
        "# Load Dataset\n",
        "# Mount Google Drive and load the dataset\n",
        "\n",
        "try:\n",
        "    file_path = \"/content/drive/MyDrive/Labmentix/Project-2/survey.csv\"\n",
        "\n",
        "    # Load the dataset\n",
        "    df = pd.read_csv(file_path)\n",
        "    print(\"Dataset loaded successfully.\")\n",
        "    print(f\"Dataset contains {df.shape[0]} rows and {df.shape[1]} columns.\")\n",
        "\n",
        "except Exception as e:\n",
        "    print(f\"Error loading dataset: {e}\")\n",
        "    print(\"Please check the file path or file format.\")\n"
      ],
      "metadata": {
        "id": "4CkvbW_SlZ_R"
      },
      "execution_count": null,
      "outputs": []
    },
    {
      "cell_type": "markdown",
      "source": [
        "### Dataset First View"
      ],
      "metadata": {
        "id": "x71ZqKXriCWQ"
      }
    },
    {
      "cell_type": "code",
      "source": [
        "# Dataset First Look\n",
        "# Display the first few rows of the dataset to get an initial view\n",
        "try:\n",
        "    display(df.head())\n",
        "except Exception as e:\n",
        "    print(f\"Error displaying head of dataset: {e}\")\n",
        "\n",
        "# Display dataset info to check data types and non-null counts\n",
        "try:\n",
        "    df_info = df.info()\n",
        "except Exception as e:\n",
        "    print(f\"Error getting dataset info: {e}\")\n",
        "\n",
        "# Display summary statistics for numerical columns\n",
        "try:\n",
        "    display(df.describe())\n",
        "except Exception as e:\n",
        "    print(f\"Error generating summary statistics: {e}\")\n",
        "\n",
        "# Check for missing values in each column\n",
        "try:\n",
        "    missing_values = df.isnull().sum()\n",
        "    print(\"Missing values in each column:\")\n",
        "    print(missing_values[missing_values > 0])\n",
        "except Exception as e:\n",
        "    print(f\"Error checking missing values: {e}\")\n"
      ],
      "metadata": {
        "id": "LWNFOSvLl09H"
      },
      "execution_count": null,
      "outputs": []
    },
    {
      "cell_type": "markdown",
      "source": [
        "### Dataset Rows & Columns count"
      ],
      "metadata": {
        "id": "7hBIi_osiCS2"
      }
    },
    {
      "cell_type": "code",
      "source": [
        "# Dataset Rows & Columns count\n",
        "try:\n",
        "    rows, columns = df.shape\n",
        "    print(f\"Number of rows in the dataset: {rows}\")\n",
        "    print(f\"Number of columns in the dataset: {columns}\")\n",
        "except Exception as e:\n",
        "    print(f\"Error retrieving dataset shape: {e}\")\n"
      ],
      "metadata": {
        "id": "Kllu7SJgmLij"
      },
      "execution_count": null,
      "outputs": []
    },
    {
      "cell_type": "markdown",
      "source": [
        "### Dataset Information"
      ],
      "metadata": {
        "id": "JlHwYmJAmNHm"
      }
    },
    {
      "cell_type": "code",
      "source": [
        "# Dataset Info\n",
        "# Display data types, non-null counts, and memory usage\n",
        "try:\n",
        "    df_info = df.info()\n",
        "except Exception as e:\n",
        "    print(f\"Error retrieving dataset info: {e}\")\n"
      ],
      "metadata": {
        "id": "e9hRXRi6meOf"
      },
      "execution_count": null,
      "outputs": []
    },
    {
      "cell_type": "markdown",
      "source": [
        "#### Duplicate Values"
      ],
      "metadata": {
        "id": "35m5QtbWiB9F"
      }
    },
    {
      "cell_type": "code",
      "source": [
        "# Dataset Duplicate Value Count\n",
        "\n",
        "try:\n",
        "    duplicate_count = df.duplicated().sum()\n",
        "    print(f\"Total duplicate rows in the dataset: {duplicate_count}\")\n",
        "except Exception as e:\n",
        "    print(f\"Error checking for duplicate rows: {e}\")\n"
      ],
      "metadata": {
        "id": "1sLdpKYkmox0"
      },
      "execution_count": null,
      "outputs": []
    },
    {
      "cell_type": "markdown",
      "source": [
        "#### Missing Values/Null Values"
      ],
      "metadata": {
        "id": "PoPl-ycgm1ru"
      }
    },
    {
      "cell_type": "code",
      "source": [
        "# Missing Values/Null Values Count\n",
        "try:\n",
        "    missing_values = df.isnull().sum()\n",
        "    missing_values = missing_values[missing_values > 0]\n",
        "    if not missing_values.empty:\n",
        "        print(\"Missing values detected in the following columns:\")\n",
        "        print(missing_values)\n",
        "    else:\n",
        "        print(\"No missing values detected in the dataset.\")\n",
        "except Exception as e:\n",
        "    print(f\"Error counting missing values: {e}\")\n"
      ],
      "metadata": {
        "id": "GgHWkxvamxVg"
      },
      "execution_count": null,
      "outputs": []
    },
    {
      "cell_type": "code",
      "source": [
        "# Visualizing the missing values\n",
        "try:\n",
        "    plt.figure(figsize=(12, 6))\n",
        "    sns.heatmap(df.isnull(), cbar=False, cmap='viridis')\n",
        "    plt.title('Heatmap of Missing Values')\n",
        "    plt.show()\n",
        "except Exception as e:\n",
        "    print(f\"Error visualizing missing values: {e}\")\n"
      ],
      "metadata": {
        "id": "3q5wnI3om9sJ"
      },
      "execution_count": null,
      "outputs": []
    },
    {
      "cell_type": "markdown",
      "source": [
        "### What did you know about your dataset?"
      ],
      "metadata": {
        "id": "H0kj-8xxnORC"
      }
    },
    {
      "cell_type": "markdown",
      "source": [
        "The dataset consists of survey responses related to mental health in the tech industry. It contains various types of data including demographic information (age, gender, country), employment details (company size, remote work, self-employment), and workplace mental health support indicators (benefits, wellness programs, care options). There are both categorical and numerical features. Initial analysis shows that the dataset has [insert number] rows and [insert number] columns. We have identified [insert duplicate_count] duplicate rows. Some columns contain missing values, which will need to be handled during data cleaning. The data types are mostly appropriate, but further checking will be required to ensure consistency and correctness, especially for age, gender, and categorical fields.\n"
      ],
      "metadata": {
        "id": "gfoNAAC-nUe_"
      }
    },
    {
      "cell_type": "markdown",
      "source": [
        "## ***2. Understanding Your Variables***"
      ],
      "metadata": {
        "id": "nA9Y7ga8ng1Z"
      }
    },
    {
      "cell_type": "code",
      "source": [
        "# Dataset Columns\n",
        "try:\n",
        "    print(\"Columns in the dataset:\")\n",
        "    print(df.columns.tolist())\n",
        "except Exception as e:\n",
        "    print(f\"Error retrieving dataset columns: {e}\")\n"
      ],
      "metadata": {
        "id": "j7xfkqrt5Ag5"
      },
      "execution_count": null,
      "outputs": []
    },
    {
      "cell_type": "code",
      "source": [
        "# Dataset Describe\n",
        "try:\n",
        "    display(df.describe())\n",
        "except Exception as e:\n",
        "    print(f\"Error generating dataset description: {e}\")\n"
      ],
      "metadata": {
        "id": "DnOaZdaE5Q5t"
      },
      "execution_count": null,
      "outputs": []
    },
    {
      "cell_type": "markdown",
      "source": [
        "### Variables Description"
      ],
      "metadata": {
        "id": "PBTbrJXOngz2"
      }
    },
    {
      "cell_type": "markdown",
      "source": [
        "Here is a clear description of each variable of dataset:\n",
        "\n",
        "- Timestamp: The date and time when the survey was submitted.\n",
        "\n",
        "- Age: The age of the respondent (numeric).\n",
        "\n",
        "- Gender: The gender identity of the respondent (categorical).\n",
        "\n",
        "- Country: The country where the respondent resides.\n",
        "\n",
        "- state: If in the United States, the state or territory where the respondent lives.\n",
        "\n",
        "- self_employed: Indicates whether the respondent is self-employed (Yes/No).\n",
        "\n",
        "- family_history: Whether the respondent has a family history of mental illness (Yes/No).\n",
        "\n",
        "- treatment: Whether the respondent has sought treatment for a mental health condition (Yes/No).\n",
        "\n",
        "- work_interfere: How often the respondent feels their mental health condition interferes with work (Never/Sometimes/Often/Always).\n",
        "\n",
        "- no_employees: Size of the company where the respondent works (categorical ranges).\n",
        "\n",
        "- remote_work: Whether the respondent works remotely at least 50% of the time (Yes/No).\n",
        "\n",
        "- tech_company: Whether the employer is primarily a tech company (Yes/No).\n",
        "\n",
        "- benefits: Whether the employer provides mental health benefits (Yes/No/Don't know).\n",
        "\n",
        "- care_options: Whether the respondent knows the mental health care options provided by the employer.\n",
        "\n",
        "- wellness_program: Whether the employer has discussed mental health as part of a wellness program.\n",
        "\n",
        "- seek_help: Whether the employer provides resources to learn about mental health and how to seek help.\n",
        "\n",
        "- anonymity: Whether the respondent's anonymity is protected if they seek treatment.\n",
        "\n",
        "- leave: Ease of taking medical leave for mental health issues (Very easy/Somewhat easy/Don't know/Somewhat difficult/Very difficult).\n",
        "\n",
        "- mental_health_consequence: Whether discussing a mental health issue with the employer could have negative consequences.\n",
        "\n",
        "- phys_health_consequence: Whether discussing a physical health issue with the employer could have negative consequences.\n",
        "\n",
        "- coworkers: Willingness to discuss mental health with coworkers.\n",
        "\n",
        "- supervisor: Willingness to discuss mental health with supervisor.\n",
        "\n",
        "- mental_health_interview: Willingness to discuss mental health during a job interview.\n",
        "\n",
        "- phys_health_interview: Willingness to discuss physical health during a job interview.\n",
        "\n",
        "- mental_vs_physical: Whether the respondent feels mental health is treated as seriously as physical health by their employer.\n",
        "\n",
        "- obs_consequence: Whether the respondent has observed negative consequences for coworkers with mental health conditions.\n",
        "\n",
        "- comments: Any additional notes or comments provided by the respondent (free text)."
      ],
      "metadata": {
        "id": "aJV4KIxSnxay"
      }
    },
    {
      "cell_type": "markdown",
      "source": [
        "### Check Unique Values for each variable."
      ],
      "metadata": {
        "id": "u3PMJOP6ngxN"
      }
    },
    {
      "cell_type": "code",
      "source": [
        "# Check Unique Values for each variable.\n",
        "try:\n",
        "    for col in df.columns:\n",
        "        unique_count = df[col].nunique()\n",
        "        print(f\"{col}: {unique_count} unique values\")\n",
        "except Exception as e:\n",
        "    print(f\"Error checking unique values: {e}\")\n"
      ],
      "metadata": {
        "id": "zms12Yq5n-jE"
      },
      "execution_count": null,
      "outputs": []
    },
    {
      "cell_type": "markdown",
      "source": [
        "## 3. ***Data Wrangling***"
      ],
      "metadata": {
        "id": "dauF4eBmngu3"
      }
    },
    {
      "cell_type": "markdown",
      "source": [
        "### Data Wrangling Code"
      ],
      "metadata": {
        "id": "bKJF3rekwFvQ"
      }
    },
    {
      "cell_type": "code",
      "source": [
        "# Write your code to make your dataset analysis ready.\n",
        "\n",
        "try:\n",
        "    # Remove duplicate rows\n",
        "    df = df.drop_duplicates()\n",
        "\n",
        "    # Remove rows with invalid ages\n",
        "    df = df[(df['Age'] >= 16) & (df['Age'] <= 100)]\n",
        "\n",
        "    # Gender standardization\n",
        "    df['Gender'] = df['Gender'].str.lower().str.strip()\n",
        "\n",
        "    df['Gender'] = df['Gender'].replace({\n",
        "        'male': 'Male', 'm': 'Male', 'man': 'Male', 'cis male': 'Male', 'male-ish': 'Male', 'msle': 'Male', 'mail': 'Male', 'malr': 'Male',\n",
        "        'female': 'Female', 'f': 'Female', 'woman': 'Female', 'cis female': 'Female', 'femail': 'Female'\n",
        "    })\n",
        "\n",
        "    # Map anything else to 'Other'\n",
        "    df['Gender'] = df['Gender'].apply(lambda x: 'Male' if x == 'Male' else ('Female' if x == 'Female' else 'Other'))\n",
        "\n",
        "    # Handle missing values\n",
        "    if 'work_interfere' in df.columns:\n",
        "        df['work_interfere'] = df['work_interfere'].fillna(\"Don't know\")\n",
        "    if 'state' in df.columns:\n",
        "        df['state'] = df['state'].fillna(\"Not specified\")\n",
        "    if 'leave' in df.columns:\n",
        "        df['leave'] = df['leave'].fillna(df['leave'].mode()[0])\n",
        "    if 'comments' in df.columns:\n",
        "        df['comments'] = df['comments'].fillna(\"\")\n",
        "\n",
        "    # Convert key columns to category dtype\n",
        "    categorical_cols = [\n",
        "        'Gender', 'Country', 'state', 'self_employed', 'family_history', 'treatment',\n",
        "        'work_interfere', 'no_employees', 'remote_work', 'tech_company', 'benefits',\n",
        "        'care_options', 'wellness_program', 'seek_help', 'anonymity', 'leave',\n",
        "        'mental_health_consequence', 'phys_health_consequence', 'coworkers', 'supervisor',\n",
        "        'mental_health_interview', 'phys_health_interview', 'mental_vs_physical', 'obs_consequence'\n",
        "    ]\n",
        "\n",
        "    for col in categorical_cols:\n",
        "        if col in df.columns:\n",
        "            df[col] = df[col].astype('category')\n",
        "\n",
        "    print(\"Advanced data wrangling completed. Dataset is now clean and ready for EDA.\")\n",
        "\n",
        "except Exception as e:\n",
        "    print(f\"Error during advanced data wrangling: {e}\")\n"
      ],
      "metadata": {
        "id": "wk-9a2fpoLcV"
      },
      "execution_count": null,
      "outputs": []
    },
    {
      "cell_type": "markdown",
      "source": [
        "### What all manipulations have you done and insights you found?"
      ],
      "metadata": {
        "id": "MSa1f5Uengrz"
      }
    },
    {
      "cell_type": "markdown",
      "source": [
        "1️⃣ Removed duplicate rows\n",
        "\n",
        "- We dropped any fully duplicate rows to ensure that repeated survey responses do not bias our analysis.\n",
        "\n",
        "2️⃣ Removed rows with unrealistic ages\n",
        "\n",
        "- We filtered the dataset to keep only rows where age is between 16 and 100 years.\n",
        "\n",
        "- This helped remove entries where respondents may have entered incorrect ages (for example, 0, 999, or other outliers).\n",
        "\n",
        "3️⃣ Standardized gender values\n",
        "\n",
        "- We cleaned the Gender column by converting all text to lowercase and trimming whitespace.\n",
        "\n",
        "- We mapped common variations (like \"m\", \"man\", \"cis male\", \"femail\", etc.) to standard categories: Male, Female, or Other.\n",
        "\n",
        "- All non-standard or unclear gender responses were grouped under Other for consistent analysis.\n",
        "\n",
        "4️⃣ Handled missing values in selected columns\n",
        "\n",
        "- work_interfere: Filled missing values with \"Don't know\" to avoid losing data in group analysis.\n",
        "\n",
        "- state: Filled missing values with \"Not specified\" since location can be useful for regional insights.\n",
        "\n",
        "- leave: Filled missing values with the mode (most common category) to reflect the typical response in the dataset.\n",
        "\n",
        "- comments: Filled missing values with an empty string to avoid errors during text analysis.\n",
        "\n",
        "5️⃣ Converted relevant columns to categorical data type\n",
        "\n",
        "- We converted columns with categorical responses (e.g., Gender, Country, self_employed, treatment, benefits) to category data type.\n",
        "\n",
        "- This improves memory efficiency and speeds up grouping, aggregation, and plotting operations."
      ],
      "metadata": {
        "id": "LbyXE7I1olp8"
      }
    },
    {
      "cell_type": "markdown",
      "source": [
        "## ***4. Data Vizualization, Storytelling & Experimenting with charts : Understand the relationships between variables***"
      ],
      "metadata": {
        "id": "GF8Ens_Soomf"
      }
    },
    {
      "cell_type": "markdown",
      "source": [
        "#### Chart - 1: Age Distribution"
      ],
      "metadata": {
        "id": "0wOQAZs5pc--"
      }
    },
    {
      "cell_type": "code",
      "source": [
        "# Chart - 1 visualization code\n",
        "try:\n",
        "    plt.figure(figsize=(10, 6))\n",
        "    sns.kdeplot(data=df, x='Age', fill=True, color='skyblue', linewidth=2)\n",
        "    plt.title('Age Distribution of Respondents')\n",
        "    plt.xlabel('Age')\n",
        "    plt.ylabel('Density')\n",
        "    plt.grid(True)\n",
        "    plt.show()\n",
        "except Exception as e:\n",
        "    print(f\"Error plotting age distribution: {e}\")\n"
      ],
      "metadata": {
        "id": "7v_ESjsspbW7"
      },
      "execution_count": null,
      "outputs": []
    },
    {
      "cell_type": "markdown",
      "source": [
        "##### 1. Why did you pick the specific chart?"
      ],
      "metadata": {
        "id": "K5QZ13OEpz2H"
      }
    },
    {
      "cell_type": "markdown",
      "source": [
        "We chose a KDE (Kernel Density Estimate) plot because it provides a smooth representation of the distribution of age. Unlike a simple histogram, a KDE plot helps us easily detect the shape of the distribution (whether it is normal, skewed, or multi-modal) and identify outliers or unusual clusters. Since age is a continuous variable, KDE is a natural choice to visualize it effectively."
      ],
      "metadata": {
        "id": "XESiWehPqBRc"
      }
    },
    {
      "cell_type": "markdown",
      "source": [
        "##### 2. What is/are the insight(s) found from the chart?"
      ],
      "metadata": {
        "id": "lQ7QKXXCp7Bj"
      }
    },
    {
      "cell_type": "markdown",
      "source": [
        "- The age distribution is concentrated between the mid-20s and early 40s, indicating that most respondents are in this working-age bracket.\n",
        "\n",
        "- There is a peak (mode) around the late 20s to early 30s, suggesting that this is the most common age group among survey participants.\n",
        "\n",
        "- There are fewer respondents at both the younger and older extremes, consistent with the expected age distribution of tech employees.\n",
        "\n",
        "- Since we already removed unrealistic ages during data wrangling, no extreme outliers appear in the chart."
      ],
      "metadata": {
        "id": "C_j1G7yiqdRP"
      }
    },
    {
      "cell_type": "markdown",
      "source": [
        "##### 3. Will the gained insights help creating a positive business impact?\n",
        "Are there any insights that lead to negative growth? Justify with specific reason."
      ],
      "metadata": {
        "id": "448CDAPjqfQr"
      }
    },
    {
      "cell_type": "markdown",
      "source": [
        "✅ Positive business impact:\n",
        "The insights highlight the core demographic (mid-20s to early 40s) of tech employees participating in the survey. Understanding the age range of the workforce helps businesses tailor mental health resources, wellness programs, and communication strategies to meet the needs of this age group. For example, mental health initiatives can focus on work-life balance challenges and burnout prevention strategies relevant to this age demographic.\n",
        "\n",
        "❌ No negative growth impact:\n",
        "There is no insight from this chart that would directly lead to negative business growth. However, failing to act on the knowledge of the age concentration (e.g., not designing age-relevant programs) could indirectly result in lower employee satisfaction or retention."
      ],
      "metadata": {
        "id": "3cspy4FjqxJW"
      }
    },
    {
      "cell_type": "markdown",
      "source": [
        "#### Chart - 2: Gender Distribution"
      ],
      "metadata": {
        "id": "KSlN3yHqYklG"
      }
    },
    {
      "cell_type": "code",
      "source": [
        "# Chart - 2 visualization code\n",
        "try:\n",
        "    plt.figure(figsize=(8, 6))\n",
        "    sns.countplot(data=df, x='Gender', palette='Set2')\n",
        "    plt.title('Gender Distribution of Respondents')\n",
        "    plt.xlabel('Gender')\n",
        "    plt.ylabel('Number of Respondents')\n",
        "    plt.grid(axis='y')\n",
        "    plt.show()\n",
        "except Exception as e:\n",
        "    print(f\"Error plotting gender distribution: {e}\")\n"
      ],
      "metadata": {
        "id": "R4YgtaqtYklH"
      },
      "execution_count": null,
      "outputs": []
    },
    {
      "cell_type": "markdown",
      "source": [
        "##### 1. Why did you pick the specific chart?"
      ],
      "metadata": {
        "id": "t6dVpIINYklI"
      }
    },
    {
      "cell_type": "markdown",
      "source": [
        "We selected a bar plot because it is the most effective way to display the frequency of categorical variables like gender. The bar plot allows for easy comparison between the standardized gender categories (Male, Female, Other) and helps visualize the relative proportions of each group in the dataset."
      ],
      "metadata": {
        "id": "5aaW0BYyYklI"
      }
    },
    {
      "cell_type": "markdown",
      "source": [
        "##### 2. What is/are the insight(s) found from the chart?"
      ],
      "metadata": {
        "id": "ijmpgYnKYklI"
      }
    },
    {
      "cell_type": "markdown",
      "source": [
        "- The majority of respondents identify as Male, which aligns with the known gender distribution in the tech industry in 2014.\n",
        "\n",
        "- A smaller proportion identify as Female, while an even smaller portion fall into the Other category, which includes non-binary and less common gender identities as standardized during data wrangling.\n",
        "\n",
        "- This distribution reflects the gender imbalance that exists in tech workplaces, providing important context for later analysis on treatment, support, and workplace perceptions."
      ],
      "metadata": {
        "id": "PSx9atu2YklI"
      }
    },
    {
      "cell_type": "markdown",
      "source": [
        "##### 3. Will the gained insights help creating a positive business impact?\n",
        "Are there any insights that lead to negative growth? Justify with specific reason."
      ],
      "metadata": {
        "id": "-JiQyfWJYklI"
      }
    },
    {
      "cell_type": "markdown",
      "source": [
        "✅ Positive business impact:\n",
        "This insight helps organizations recognize the gender composition of their workforce and highlights the importance of designing inclusive mental health programs that address the unique needs and challenges faced by different gender groups. It also provides a foundation for exploring whether mental health resources are equitably accessed across genders.\n",
        "\n",
        "❌ No negative growth impact:\n",
        "There is no direct negative business impact from this chart. However, ignoring the gender imbalance or failing to create inclusive mental health initiatives could contribute to negative outcomes like reduced diversity, lower employee morale, or difficulty attracting talent from underrepresented gender groups."
      ],
      "metadata": {
        "id": "BcBbebzrYklV"
      }
    },
    {
      "cell_type": "markdown",
      "source": [
        "#### Chart - 3: Country Distribution"
      ],
      "metadata": {
        "id": "EM7whBJCYoAo"
      }
    },
    {
      "cell_type": "code",
      "source": [
        "# Chart - 3 visualization code\n",
        "try:\n",
        "    plt.figure(figsize=(12, 6))\n",
        "    top_countries = df['Country'].value_counts().nlargest(10)\n",
        "    sns.barplot(x=top_countries.index, y=top_countries.values, palette='pastel')\n",
        "    plt.title('Top 10 Countries by Number of Respondents')\n",
        "    plt.xlabel('Country')\n",
        "    plt.ylabel('Number of Respondents')\n",
        "    plt.xticks(rotation=45)\n",
        "    plt.grid(axis='y')\n",
        "    plt.show()\n",
        "except Exception as e:\n",
        "    print(f\"Error plotting country distribution: {e}\")\n"
      ],
      "metadata": {
        "id": "t6GMdE67YoAp"
      },
      "execution_count": null,
      "outputs": []
    },
    {
      "cell_type": "markdown",
      "source": [
        "##### 1. Why did you pick the specific chart?"
      ],
      "metadata": {
        "id": "fge-S5ZAYoAp"
      }
    },
    {
      "cell_type": "markdown",
      "source": [
        "We chose a bar plot of the top 10 countries to focus on the countries that contribute the most data to the survey. This helps avoid clutter from countries with very few respondents, making the chart cleaner and easier to interpret. Bar plots are ideal for comparing counts across discrete categories like countries."
      ],
      "metadata": {
        "id": "5dBItgRVYoAp"
      }
    },
    {
      "cell_type": "markdown",
      "source": [
        "##### 2. What is/are the insight(s) found from the chart?"
      ],
      "metadata": {
        "id": "85gYPyotYoAp"
      }
    },
    {
      "cell_type": "markdown",
      "source": [
        "- The majority of respondents are from the United States, followed by countries like the United Kingdom, Canada, and Germany.\n",
        "\n",
        "- There is significant representation from a few other countries, but the dataset is heavily weighted toward English-speaking and Western countries.\n",
        "\n",
        "- This suggests that our later analyses will largely reflect the mental health landscape and workplace practices in these regions."
      ],
      "metadata": {
        "id": "4jstXR6OYoAp"
      }
    },
    {
      "cell_type": "markdown",
      "source": [
        "##### 3. Will the gained insights help creating a positive business impact?\n",
        "Are there any insights that lead to negative growth? Justify with specific reason."
      ],
      "metadata": {
        "id": "RoGjAbkUYoAp"
      }
    },
    {
      "cell_type": "markdown",
      "source": [
        "✅ Positive business impact:\n",
        "Knowing where most of the data originates allows companies and analysts to tailor insights and recommendations to regions where the data is most representative. It also highlights the importance of region-specific mental health initiatives and policies. Businesses operating in these countries can use the insights with higher confidence.\n",
        "\n",
        "❌ No negative growth impact:\n",
        "There is no direct negative business impact from this insight. However, misapplying findings to underrepresented regions (where data is sparse) without caution could lead to ineffective or inappropriate policy decisions."
      ],
      "metadata": {
        "id": "zfJ8IqMcYoAp"
      }
    },
    {
      "cell_type": "markdown",
      "source": [
        "#### Chart - 4: Company Size Distribution"
      ],
      "metadata": {
        "id": "4Of9eVA-YrdM"
      }
    },
    {
      "cell_type": "code",
      "source": [
        "# Chart - 4 visualization code\n",
        "try:\n",
        "    plt.figure(figsize=(10, 6))\n",
        "    sns.countplot(data=df, x='no_employees', order=df['no_employees'].value_counts().index, palette='Blues')\n",
        "    plt.title('Distribution of Company Sizes')\n",
        "    plt.xlabel('Number of Employees')\n",
        "    plt.ylabel('Number of Respondents')\n",
        "    plt.grid(axis='y')\n",
        "    plt.show()\n",
        "except Exception as e:\n",
        "    print(f\"Error plotting company size distribution: {e}\")\n"
      ],
      "metadata": {
        "id": "irlUoxc8YrdO"
      },
      "execution_count": null,
      "outputs": []
    },
    {
      "cell_type": "markdown",
      "source": [
        "##### 1. Why did you pick the specific chart?"
      ],
      "metadata": {
        "id": "iky9q4vBYrdO"
      }
    },
    {
      "cell_type": "markdown",
      "source": [
        "We chose a bar plot because company size is a categorical variable representing ranges of employee counts. A bar plot clearly shows the number of respondents from each company size category, making it easy to identify which types of organizations are most represented in the dataset."
      ],
      "metadata": {
        "id": "aJRCwT6DYrdO"
      }
    },
    {
      "cell_type": "markdown",
      "source": [
        "##### 2. What is/are the insight(s) found from the chart?"
      ],
      "metadata": {
        "id": "F6T5p64dYrdO"
      }
    },
    {
      "cell_type": "markdown",
      "source": [
        "- A large number of respondents come from companies with 100-500 employees, followed by those in 1-5 employees and 500-1000 employees categories.\n",
        "\n",
        "- There is representation across various company sizes, but mid-sized organizations seem to be the most common in this survey.\n",
        "\n",
        "- This suggests that mental health policies and experiences reflected in the dataset may be more indicative of practices in small to mid-sized companies."
      ],
      "metadata": {
        "id": "Xx8WAJvtYrdO"
      }
    },
    {
      "cell_type": "markdown",
      "source": [
        "##### 3. Will the gained insights help creating a positive business impact?\n",
        "Are there any insights that lead to negative growth? Justify with specific reason."
      ],
      "metadata": {
        "id": "y-Ehk30pYrdP"
      }
    },
    {
      "cell_type": "markdown",
      "source": [
        "✅ Positive business impact:\n",
        "Understanding company size distribution helps businesses benchmark their mental health policies against similarly sized organizations. It also enables analysts to tailor recommendations based on typical challenges faced by small, mid-sized, or large companies in supporting mental health.\n",
        "\n",
        "❌ No negative growth impact:\n",
        "There is no direct negative business impact from this insight. However, making assumptions about mental health support in large corporations based on data that mostly represents smaller companies could lead to less relevant recommendations."
      ],
      "metadata": {
        "id": "jLNxxz7MYrdP"
      }
    },
    {
      "cell_type": "markdown",
      "source": [
        "#### Chart - 5: Remote Work Status Distribution"
      ],
      "metadata": {
        "id": "bamQiAODYuh1"
      }
    },
    {
      "cell_type": "code",
      "source": [
        "# Chart - 5 visualization code\n",
        "try:\n",
        "    plt.figure(figsize=(8, 6))\n",
        "    sns.countplot(data=df, x='remote_work', palette='Greens')\n",
        "    plt.title('Distribution of Remote Work Status')\n",
        "    plt.xlabel('Remote Work (50% or More of Time)')\n",
        "    plt.ylabel('Number of Respondents')\n",
        "    plt.grid(axis='y')\n",
        "    plt.show()\n",
        "except Exception as e:\n",
        "    print(f\"Error plotting remote work distribution: {e}\")\n"
      ],
      "metadata": {
        "id": "TIJwrbroYuh3"
      },
      "execution_count": null,
      "outputs": []
    },
    {
      "cell_type": "markdown",
      "source": [
        "##### 1. Why did you pick the specific chart?"
      ],
      "metadata": {
        "id": "QHF8YVU7Yuh3"
      }
    },
    {
      "cell_type": "markdown",
      "source": [
        "A bar plot is ideal for showing the frequency of responses for a binary or categorical variable like remote work status. It makes it easy to see how many respondents work remotely at least 50% of the time versus those who do not, allowing for straightforward comparison."
      ],
      "metadata": {
        "id": "dcxuIMRPYuh3"
      }
    },
    {
      "cell_type": "markdown",
      "source": [
        "##### 2. What is/are the insight(s) found from the chart?"
      ],
      "metadata": {
        "id": "GwzvFGzlYuh3"
      }
    },
    {
      "cell_type": "markdown",
      "source": [
        "- The majority of respondents do not work remotely at least 50% of the time.\n",
        "\n",
        "- A smaller but notable proportion of respondents report working remotely the majority of the time.\n",
        "\n",
        "- This suggests that while remote work was present in tech workplaces in 2014, it was not the dominant mode of working for most survey participants."
      ],
      "metadata": {
        "id": "uyqkiB8YYuh3"
      }
    },
    {
      "cell_type": "markdown",
      "source": [
        "##### 3. Will the gained insights help creating a positive business impact?\n",
        "Are there any insights that lead to negative growth? Justify with specific reason."
      ],
      "metadata": {
        "id": "qYpmQ266Yuh3"
      }
    },
    {
      "cell_type": "markdown",
      "source": [
        "✅ Positive business impact:\n",
        "This insight helps companies understand the baseline prevalence of remote work at the time of the survey, which is important for interpreting mental health support structures. For example, businesses can consider whether mental health resources were designed more for in-office or remote workers and adjust accordingly.\n",
        "\n",
        "❌ No negative growth impact:\n",
        "There is no negative growth insight from this chart directly. However, failure to provide adequate mental health support tailored to remote workers could lead to disengagement or lower productivity in that group."
      ],
      "metadata": {
        "id": "_WtzZ_hCYuh4"
      }
    },
    {
      "cell_type": "markdown",
      "source": [
        "#### Chart - 6: Tech Company Status Distribution"
      ],
      "metadata": {
        "id": "OH-pJp9IphqM"
      }
    },
    {
      "cell_type": "code",
      "source": [
        "# Chart - 6 visualization code\n",
        "try:\n",
        "    plt.figure(figsize=(8, 6))\n",
        "    sns.countplot(data=df, x='tech_company', palette='Oranges')\n",
        "    plt.title('Distribution of Respondents by Tech Company Status')\n",
        "    plt.xlabel('Tech Company (Yes/No)')\n",
        "    plt.ylabel('Number of Respondents')\n",
        "    plt.grid(axis='y')\n",
        "    plt.show()\n",
        "except Exception as e:\n",
        "    print(f\"Error plotting tech company status distribution: {e}\")\n"
      ],
      "metadata": {
        "id": "kuRf4wtuphqN"
      },
      "execution_count": null,
      "outputs": []
    },
    {
      "cell_type": "markdown",
      "source": [
        "##### 1. Why did you pick the specific chart?"
      ],
      "metadata": {
        "id": "bbFf2-_FphqN"
      }
    },
    {
      "cell_type": "markdown",
      "source": [
        "We selected a bar plot because tech company status is a binary categorical variable (Yes or No). A bar plot provides a clear, simple comparison of how many respondents work in tech companies versus non-tech organizations. This format helps us understand the overall representation of tech-sector employees in the dataset."
      ],
      "metadata": {
        "id": "loh7H2nzphqN"
      }
    },
    {
      "cell_type": "markdown",
      "source": [
        "##### 2. What is/are the insight(s) found from the chart?"
      ],
      "metadata": {
        "id": "_ouA3fa0phqN"
      }
    },
    {
      "cell_type": "markdown",
      "source": [
        "- The majority of respondents work at tech companies, as expected given the focus of the survey on the tech industry.\n",
        "\n",
        "- There is still a notable portion of respondents from non-tech companies, suggesting that mental health in the workplace is also a concern in sectors outside of core tech."
      ],
      "metadata": {
        "id": "VECbqPI7phqN"
      }
    },
    {
      "cell_type": "markdown",
      "source": [
        "##### 3. Will the gained insights help creating a positive business impact?\n",
        "Are there any insights that lead to negative growth? Justify with specific reason."
      ],
      "metadata": {
        "id": "Seke61FWphqN"
      }
    },
    {
      "cell_type": "markdown",
      "source": [
        "✅ Positive business impact:\n",
        "This insight helps ensure that mental health analysis and recommendations can be tailored to the tech sector where most respondents work. Companies can benchmark their policies against industry standards and better understand if they are aligned with common practices within tech organizations.\n",
        "\n",
        "❌ No negative growth impact:\n",
        "No direct negative growth impact arises from this insight. However, overlooking the needs of employees in non-tech firms who participated in the survey could result in less inclusive mental health strategies."
      ],
      "metadata": {
        "id": "DW4_bGpfphqN"
      }
    },
    {
      "cell_type": "markdown",
      "source": [
        "#### Chart - 7: Treatment Frequency Distribution"
      ],
      "metadata": {
        "id": "PIIx-8_IphqN"
      }
    },
    {
      "cell_type": "code",
      "source": [
        "# Chart - 7 visualization code\n",
        "try:\n",
        "    plt.figure(figsize=(8, 6))\n",
        "    sns.countplot(data=df, x='treatment', palette='Purples')\n",
        "    plt.title('Distribution of Mental Health Treatment Seeking')\n",
        "    plt.xlabel('Sought Treatment (Yes/No)')\n",
        "    plt.ylabel('Number of Respondents')\n",
        "    plt.grid(axis='y')\n",
        "    plt.show()\n",
        "except Exception as e:\n",
        "    print(f\"Error plotting treatment frequency distribution: {e}\")\n"
      ],
      "metadata": {
        "id": "lqAIGUfyphqO"
      },
      "execution_count": null,
      "outputs": []
    },
    {
      "cell_type": "markdown",
      "source": [
        "##### 1. Why did you pick the specific chart?"
      ],
      "metadata": {
        "id": "t27r6nlMphqO"
      }
    },
    {
      "cell_type": "markdown",
      "source": [
        "A bar plot is appropriate because treatment is a binary categorical variable. The bar plot effectively shows how many respondents reported seeking mental health treatment versus those who did not, offering a clear visual comparison of the two groups."
      ],
      "metadata": {
        "id": "iv6ro40sphqO"
      }
    },
    {
      "cell_type": "markdown",
      "source": [
        "##### 2. What is/are the insight(s) found from the chart?"
      ],
      "metadata": {
        "id": "r2jJGEOYphqO"
      }
    },
    {
      "cell_type": "markdown",
      "source": [
        "- A significant number of respondents reported having sought mental health treatment.\n",
        "\n",
        "- There is still a considerable portion who have not sought treatment, indicating that barriers or reluctance to seek help may exist despite working in the tech sector.\n",
        "\n",
        "- This sets the stage for deeper analysis of what workplace or personal factors influence treatment-seeking behavior."
      ],
      "metadata": {
        "id": "Po6ZPi4hphqO"
      }
    },
    {
      "cell_type": "markdown",
      "source": [
        "##### 3. Will the gained insights help creating a positive business impact?\n",
        "Are there any insights that lead to negative growth? Justify with specific reason."
      ],
      "metadata": {
        "id": "b0JNsNcRphqO"
      }
    },
    {
      "cell_type": "markdown",
      "source": [
        "✅ Positive business impact:\n",
        "These insights can help companies assess whether their employees are accessing mental health resources and identify potential gaps. Organizations can use this information to promote their support systems more effectively and reduce stigma around seeking treatment.\n",
        "\n",
        "❌ No negative growth impact:\n",
        "There is no direct negative growth insight from this chart. However, companies that ignore this kind of data risk missing opportunities to support their workforce’s mental well-being, which could indirectly affect morale and productivity."
      ],
      "metadata": {
        "id": "xvSq8iUTphqO"
      }
    },
    {
      "cell_type": "markdown",
      "source": [
        "#### Chart - 8: Age vs Treatment"
      ],
      "metadata": {
        "id": "BZR9WyysphqO"
      }
    },
    {
      "cell_type": "code",
      "source": [
        "# Chart - 8 visualization code\n",
        "# Age vs Treatment: Box plot comparing age distributions for those who sought treatment vs those who did not\n",
        "\n",
        "try:\n",
        "    plt.figure(figsize=(10, 6))\n",
        "    sns.boxplot(data=df, x='treatment', y='Age', palette='coolwarm')\n",
        "    plt.title('Age Distribution by Treatment Status')\n",
        "    plt.xlabel('Sought Treatment (Yes/No)')\n",
        "    plt.ylabel('Age')\n",
        "    plt.grid(axis='y')\n",
        "    plt.show()\n",
        "except Exception as e:\n",
        "    print(f\"Error plotting age vs treatment box plot: {e}\")\n"
      ],
      "metadata": {
        "id": "TdPTWpAVphqO"
      },
      "execution_count": null,
      "outputs": []
    },
    {
      "cell_type": "markdown",
      "source": [
        "##### 1. Why did you pick the specific chart?"
      ],
      "metadata": {
        "id": "jj7wYXLtphqO"
      }
    },
    {
      "cell_type": "markdown",
      "source": [
        "We chose a box plot because it provides a clear summary of the distribution of age (a numeric variable) for each treatment category (Yes/No). A box plot shows the median, quartiles, and outliers, which helps us compare age distributions and identify whether certain age groups are more or less likely to seek treatment."
      ],
      "metadata": {
        "id": "Ob8u6rCTphqO"
      }
    },
    {
      "cell_type": "markdown",
      "source": [
        "##### 2. What is/are the insight(s) found from the chart?"
      ],
      "metadata": {
        "id": "eZrbJ2SmphqO"
      }
    },
    {
      "cell_type": "markdown",
      "source": [
        "- The median age of those who sought treatment is similar to those who did not.\n",
        "\n",
        "- The spread of ages is slightly wider among those who sought treatment, indicating that mental health concerns and the decision to seek help span across age groups.\n",
        "\n",
        "- No strong age-related trend is immediately obvious, suggesting that age alone may not be a primary factor in treatment-seeking behavior within this dataset."
      ],
      "metadata": {
        "id": "mZtgC_hjphqO"
      }
    },
    {
      "cell_type": "markdown",
      "source": [
        "##### 3. Will the gained insights help creating a positive business impact?\n",
        "Are there any insights that lead to negative growth? Justify with specific reason."
      ],
      "metadata": {
        "id": "rFu4xreNphqO"
      }
    },
    {
      "cell_type": "markdown",
      "source": [
        "✅ Positive business impact:\n",
        "These insights highlight that mental health support strategies should be inclusive of employees across all age groups. Companies can ensure that resources and programs are designed to meet the needs of both younger and older employees, rather than assuming that mental health concerns are concentrated in a specific age group.\n",
        "\n",
        "❌ No negative growth impact:\n",
        "There is no direct negative business impact from this chart. However, failing to recognize that mental health needs span all age groups could result in programs that overlook certain segments of the workforce."
      ],
      "metadata": {
        "id": "ey_0qi68phqO"
      }
    },
    {
      "cell_type": "markdown",
      "source": [
        "#### Chart - 9: Gender vs Treatment"
      ],
      "metadata": {
        "id": "YJ55k-q6phqO"
      }
    },
    {
      "cell_type": "code",
      "source": [
        "# Chart - 9 visualization code\n",
        "# Gender vs Treatment: Grouped bar plot showing treatment frequency by gender\n",
        "\n",
        "try:\n",
        "    plt.figure(figsize=(8, 6))\n",
        "    sns.countplot(data=df, x='Gender', hue='treatment', palette='Set1')\n",
        "    plt.title('Treatment Seeking by Gender')\n",
        "    plt.xlabel('Gender')\n",
        "    plt.ylabel('Number of Respondents')\n",
        "    plt.legend(title='Sought Treatment')\n",
        "    plt.grid(axis='y')\n",
        "    plt.show()\n",
        "except Exception as e:\n",
        "    print(f\"Error plotting gender vs treatment grouped bar plot: {e}\")\n"
      ],
      "metadata": {
        "id": "B2aS4O1ophqO"
      },
      "execution_count": null,
      "outputs": []
    },
    {
      "cell_type": "markdown",
      "source": [
        "##### 1. Why did you pick the specific chart?"
      ],
      "metadata": {
        "id": "gCFgpxoyphqP"
      }
    },
    {
      "cell_type": "markdown",
      "source": [
        "We selected a grouped bar plot because it effectively displays the relationship between two categorical variables: Gender and treatment. This format allows us to compare how frequently respondents from each gender category reported seeking mental health treatment, making it easy to spot differences across groups."
      ],
      "metadata": {
        "id": "TVxDimi2phqP"
      }
    },
    {
      "cell_type": "markdown",
      "source": [
        "##### 2. What is/are the insight(s) found from the chart?"
      ],
      "metadata": {
        "id": "OVtJsKN_phqQ"
      }
    },
    {
      "cell_type": "markdown",
      "source": [
        "- Across all gender categories, a substantial portion of respondents reported seeking mental health treatment.\n",
        "\n",
        "- The proportion of treatment seekers appears relatively consistent across Male and Female groups.\n",
        "\n",
        "- The Other category shows fewer respondents overall, which limits the strength of conclusions, but treatment seeking is still present in that group."
      ],
      "metadata": {
        "id": "ngGi97qjphqQ"
      }
    },
    {
      "cell_type": "markdown",
      "source": [
        "##### 3. Will the gained insights help creating a positive business impact?\n",
        "Are there any insights that lead to negative growth? Justify with specific reason."
      ],
      "metadata": {
        "id": "lssrdh5qphqQ"
      }
    },
    {
      "cell_type": "markdown",
      "source": [
        "✅ Positive business impact:\n",
        "These insights emphasize the importance of designing mental health support initiatives that are inclusive across all gender identities. They also help companies understand that treatment-seeking behavior exists across genders, guiding equitable resource allocation.\n",
        "\n",
        "❌ No negative growth impact:\n",
        "No direct negative growth insight arises from this chart. However, failing to provide gender-inclusive mental health resources or overlooking minority gender groups due to smaller numbers could undermine diversity and inclusion efforts."
      ],
      "metadata": {
        "id": "tBpY5ekJphqQ"
      }
    },
    {
      "cell_type": "markdown",
      "source": [
        "#### Chart - 10: Company Size vs Mental Health Benefits"
      ],
      "metadata": {
        "id": "U2RJ9gkRphqQ"
      }
    },
    {
      "cell_type": "code",
      "source": [
        "# Chart - 10 visualization code\n",
        "# Company Size vs Benefits: Grouped bar plot showing mental health benefit availability by company size\n",
        "\n",
        "try:\n",
        "    plt.figure(figsize=(10, 6))\n",
        "    sns.countplot(data=df, x='no_employees', hue='benefits', order=df['no_employees'].value_counts().index, palette='Set2')\n",
        "    plt.title('Mental Health Benefits by Company Size')\n",
        "    plt.xlabel('Number of Employees')\n",
        "    plt.ylabel('Number of Respondents')\n",
        "    plt.legend(title='Provides Mental Health Benefits')\n",
        "    plt.grid(axis='y')\n",
        "    plt.show()\n",
        "except Exception as e:\n",
        "    print(f\"Error plotting company size vs benefits grouped bar plot: {e}\")\n"
      ],
      "metadata": {
        "id": "GM7a4YP4phqQ"
      },
      "execution_count": null,
      "outputs": []
    },
    {
      "cell_type": "markdown",
      "source": [
        "##### 1. Why did you pick the specific chart?"
      ],
      "metadata": {
        "id": "1M8mcRywphqQ"
      }
    },
    {
      "cell_type": "markdown",
      "source": [
        "We selected a grouped bar plot because it provides a clear visual comparison of mental health benefit availability across different company sizes. This format makes it easy to see how frequently companies of various sizes offer mental health benefits, helping identify any patterns based on company scale."
      ],
      "metadata": {
        "id": "8agQvks0phqQ"
      }
    },
    {
      "cell_type": "markdown",
      "source": [
        "##### 2. What is/are the insight(s) found from the chart?"
      ],
      "metadata": {
        "id": "tgIPom80phqQ"
      }
    },
    {
      "cell_type": "markdown",
      "source": [
        "- Larger companies (for example, those with 100-500 or 500-1000 employees) appear more likely to offer mental health benefits compared to smaller firms.\n",
        "\n",
        "- Smaller companies (such as those with 1-5 employees) more often do not provide mental health benefits.\n",
        "\n",
        "- This suggests a positive correlation between company size and the likelihood of offering mental health benefits."
      ],
      "metadata": {
        "id": "Qp13pnNzphqQ"
      }
    },
    {
      "cell_type": "markdown",
      "source": [
        "##### 3. Will the gained insights help creating a positive business impact?\n",
        "Are there any insights that lead to negative growth? Justify with specific reason."
      ],
      "metadata": {
        "id": "JMzcOPDDphqR"
      }
    },
    {
      "cell_type": "markdown",
      "source": [
        "✅ Positive business impact:\n",
        "This insight can guide small and mid-sized companies to recognize gaps in their mental health support offerings compared to larger organizations. It can also help HR teams in larger firms benchmark their practices and further strengthen benefit programs.\n",
        "\n",
        "❌ No negative growth impact:\n",
        "There is no direct negative growth insight from this chart. However, smaller companies that continue to neglect mental health benefits could risk lower employee satisfaction, retention challenges, and reduced competitiveness."
      ],
      "metadata": {
        "id": "R4Ka1PC2phqR"
      }
    },
    {
      "cell_type": "markdown",
      "source": [
        "#### Chart - 11: Remote Work vs Mental Health Consequence Fear"
      ],
      "metadata": {
        "id": "x-EpHcCOp1ci"
      }
    },
    {
      "cell_type": "code",
      "source": [
        "# Chart - 11 visualization code\n",
        "# Remote Work vs Mental Health Consequence Fear: Grouped bar plot showing fear of negative consequences by remote work status\n",
        "\n",
        "try:\n",
        "    plt.figure(figsize=(10, 6))\n",
        "    sns.countplot(data=df, x='remote_work', hue='mental_health_consequence', palette='Set3')\n",
        "    plt.title('Fear of Negative Consequences by Remote Work Status')\n",
        "    plt.xlabel('Remote Work (50% or More of Time)')\n",
        "    plt.ylabel('Number of Respondents')\n",
        "    plt.legend(title='Fear of Negative Consequence')\n",
        "    plt.grid(axis='y')\n",
        "    plt.show()\n",
        "except Exception as e:\n",
        "    print(f\"Error plotting remote work vs mental health consequence fear: {e}\")\n"
      ],
      "metadata": {
        "id": "mAQTIvtqp1cj"
      },
      "execution_count": null,
      "outputs": []
    },
    {
      "cell_type": "markdown",
      "source": [
        "##### 1. Why did you pick the specific chart?"
      ],
      "metadata": {
        "id": "X_VqEhTip1ck"
      }
    },
    {
      "cell_type": "markdown",
      "source": [
        "A grouped bar plot is ideal for comparing two categorical variables — remote work status and perceived fear of negative consequences when discussing mental health. This chart type makes it easy to compare levels of fear between remote and non-remote workers."
      ],
      "metadata": {
        "id": "-vsMzt_np1ck"
      }
    },
    {
      "cell_type": "markdown",
      "source": [
        "##### 2. What is/are the insight(s) found from the chart?"
      ],
      "metadata": {
        "id": "8zGJKyg5p1ck"
      }
    },
    {
      "cell_type": "markdown",
      "source": [
        "- Both remote and non-remote workers show a range of responses regarding fear of negative consequences, with no extreme differences between the groups.\n",
        "\n",
        "- There is a slight trend where non-remote workers report higher fear of negative consequences compared to remote workers, but the pattern is not dramatic.\n",
        "\n",
        "- This suggests that workplace culture and policies may influence fear levels more than remote work status itself."
      ],
      "metadata": {
        "id": "ZYdMsrqVp1ck"
      }
    },
    {
      "cell_type": "markdown",
      "source": [
        "##### 3. Will the gained insights help creating a positive business impact?\n",
        "Are there any insights that lead to negative growth? Justify with specific reason."
      ],
      "metadata": {
        "id": "PVzmfK_Ep1ck"
      }
    },
    {
      "cell_type": "markdown",
      "source": [
        "✅ Positive business impact:\n",
        "These insights help businesses identify that fear of negative consequences exists regardless of remote work status. This means mental health policies and protections need to address both remote and in-office employees equally. It can also guide training and communication strategies to reduce stigma company-wide.\n",
        "\n",
        "❌ No negative growth impact:\n",
        "There is no direct negative growth impact from this insight. However, ignoring fear of consequences among in-office employees while focusing only on remote staff could lead to morale and trust issues."
      ],
      "metadata": {
        "id": "druuKYZpp1ck"
      }
    },
    {
      "cell_type": "markdown",
      "source": [
        "#### Chart - 12: Age + Gender + Treatment"
      ],
      "metadata": {
        "id": "n3dbpmDWp1ck"
      }
    },
    {
      "cell_type": "code",
      "source": [
        "# Chart - 12 visualization code\n",
        "# Age + Gender + Treatment: Box plot showing age distribution by gender and treatment status\n",
        "\n",
        "try:\n",
        "    plt.figure(figsize=(10, 6))\n",
        "    sns.boxplot(data=df, x='Gender', y='Age', hue='treatment', palette='Set1')\n",
        "    plt.title('Age Distribution by Gender and Treatment Status')\n",
        "    plt.xlabel('Gender')\n",
        "    plt.ylabel('Age')\n",
        "    plt.legend(title='Sought Treatment')\n",
        "    plt.grid(axis='y')\n",
        "    plt.show()\n",
        "except Exception as e:\n",
        "    print(f\"Error plotting age + gender + treatment box plot: {e}\")\n"
      ],
      "metadata": {
        "id": "bwevp1tKp1ck"
      },
      "execution_count": null,
      "outputs": []
    },
    {
      "cell_type": "markdown",
      "source": [
        "##### 1. Why did you pick the specific chart?"
      ],
      "metadata": {
        "id": "ylSl6qgtp1ck"
      }
    },
    {
      "cell_type": "markdown",
      "source": [
        "We selected a box plot with hue grouping because it allows us to compare the age distribution across genders and treatment statuses simultaneously. This format effectively shows medians, spread, and outliers, helping us explore whether age and gender together relate to the likelihood of seeking treatment."
      ],
      "metadata": {
        "id": "m2xqNkiQp1ck"
      }
    },
    {
      "cell_type": "markdown",
      "source": [
        "##### 2. What is/are the insight(s) found from the chart?"
      ],
      "metadata": {
        "id": "ZWILFDl5p1ck"
      }
    },
    {
      "cell_type": "markdown",
      "source": [
        "- For both Male and Female respondents, the age distribution of those who sought treatment is broadly similar to those who did not.\n",
        "\n",
        "- There is no strong age difference in treatment-seeking behavior within gender groups, suggesting age and gender together do not have a major combined effect on treatment in this dataset.\n",
        "\n",
        "- The Other gender group shows fewer respondents, making interpretation limited for that category."
      ],
      "metadata": {
        "id": "x-lUsV2mp1ck"
      }
    },
    {
      "cell_type": "markdown",
      "source": [
        "##### 3. Will the gained insights help creating a positive business impact?\n",
        "Are there any insights that lead to negative growth? Justify with specific reason."
      ],
      "metadata": {
        "id": "M7G43BXep1ck"
      }
    },
    {
      "cell_type": "markdown",
      "source": [
        "✅ Positive business impact:\n",
        "This insight highlights that mental health strategies should be inclusive across age and gender combinations, rather than targeting specific age-gender segments. It helps businesses ensure fairness in designing support programs and avoid bias in assumptions about who needs help.\n",
        "\n",
        "❌ No negative growth impact:\n",
        "There is no direct negative growth insight. However, overlooking small groups like the Other category due to their size could contribute to exclusion in mental health initiatives."
      ],
      "metadata": {
        "id": "5wwDJXsLp1cl"
      }
    },
    {
      "cell_type": "markdown",
      "source": [
        "#### Chart - 13: Company Size + Benefits + Treatment"
      ],
      "metadata": {
        "id": "Ag9LCva-p1cl"
      }
    },
    {
      "cell_type": "code",
      "source": [
        "# Chart - 13 visualization code\n",
        "# Company Size + Benefits + Treatment: Grouped bar plot showing treatment seeking across company size and benefit availability\n",
        "\n",
        "try:\n",
        "    plt.figure(figsize=(12, 6))\n",
        "    sns.countplot(data=df, x='no_employees', hue='treatment', palette='Set2', order=df['no_employees'].value_counts().index)\n",
        "    plt.title('Treatment Seeking by Company Size and Mental Health Benefit Availability')\n",
        "    plt.xlabel('Company Size (Number of Employees)')\n",
        "    plt.ylabel('Number of Respondents')\n",
        "    plt.legend(title='Sought Treatment')\n",
        "    plt.grid(axis='y')\n",
        "    plt.show()\n",
        "except Exception as e:\n",
        "    print(f\"Error plotting company size + benefits + treatment grouped bar plot: {e}\")"
      ],
      "metadata": {
        "id": "EUfxeq9-p1cl"
      },
      "execution_count": null,
      "outputs": []
    },
    {
      "cell_type": "markdown",
      "source": [
        "##### 1. Why did you pick the specific chart?"
      ],
      "metadata": {
        "id": "E6MkPsBcp1cl"
      }
    },
    {
      "cell_type": "markdown",
      "source": [
        "We chose a grouped bar plot because it lets us simultaneously compare treatment-seeking behavior across different company sizes and explore how mental health benefit availability (which typically correlates with company size) might influence this behavior. Grouped bars make patterns across multiple categorical variables easy to interpret."
      ],
      "metadata": {
        "id": "V22bRsFWp1cl"
      }
    },
    {
      "cell_type": "markdown",
      "source": [
        "##### 2. What is/are the insight(s) found from the chart?"
      ],
      "metadata": {
        "id": "2cELzS2fp1cl"
      }
    },
    {
      "cell_type": "markdown",
      "source": [
        "- Respondents from larger companies generally report higher instances of seeking treatment.\n",
        "\n",
        "- Smaller companies show more respondents who did not seek treatment, suggesting that limited mental health benefits (common in smaller firms) could be a contributing factor.\n",
        "\n",
        "- This indicates that company size and the likely availability of mental health benefits may influence employees’ likelihood of seeking care."
      ],
      "metadata": {
        "id": "ozQPc2_Ip1cl"
      }
    },
    {
      "cell_type": "markdown",
      "source": [
        "##### 3. Will the gained insights help creating a positive business impact?\n",
        "Are there any insights that lead to negative growth? Justify with specific reason."
      ],
      "metadata": {
        "id": "3MPXvC8up1cl"
      }
    },
    {
      "cell_type": "markdown",
      "source": [
        "✅ Positive business impact:\n",
        "These insights can help small and mid-sized companies recognize where they might need to strengthen their mental health support offerings to encourage employees to seek care. Larger firms can use this to validate their benefit programs and identify areas for improvement.\n",
        "\n",
        "❌ No negative growth impact:\n",
        "There is no direct negative growth insight. However, smaller companies that do not address mental health support gaps risk higher employee stress levels and potential retention challenges."
      ],
      "metadata": {
        "id": "GL8l1tdLp1cl"
      }
    },
    {
      "cell_type": "markdown",
      "source": [
        "#### Chart - 14 - Correlation Heatmap"
      ],
      "metadata": {
        "id": "NC_X3p0fY2L0"
      }
    },
    {
      "cell_type": "code",
      "source": [
        "# Correlation heatmap: Show correlation between numeric and encoded ordinal features\n",
        "\n",
        "try:\n",
        "    # Select relevant numeric / ordinal-like features\n",
        "    heatmap_df = df.copy()\n",
        "\n",
        "    # Example encoding for ordinal features (adjust based on actual data mapping)\n",
        "    if 'leave' in heatmap_df.columns:\n",
        "        leave_map = {\n",
        "            'Very easy': 5,\n",
        "            'Somewhat easy': 4,\n",
        "            \"Don't know\": 3,\n",
        "            'Somewhat difficult': 2,\n",
        "            'Very difficult': 1\n",
        "        }\n",
        "        heatmap_df['leave_encoded'] = heatmap_df['leave'].map(leave_map)\n",
        "\n",
        "    if 'work_interfere' in heatmap_df.columns:\n",
        "        interfere_map = {\n",
        "            'Never': 1,\n",
        "            'Rarely': 2,\n",
        "            'Sometimes': 3,\n",
        "            'Often': 4,\n",
        "            'Always': 5,\n",
        "            \"Don't know\": 0\n",
        "        }\n",
        "        heatmap_df['work_interfere_encoded'] = heatmap_df['work_interfere'].map(interfere_map)\n",
        "\n",
        "    # Select columns for correlation\n",
        "    corr_cols = ['Age']\n",
        "    if 'leave_encoded' in heatmap_df.columns:\n",
        "        corr_cols.append('leave_encoded')\n",
        "    if 'work_interfere_encoded' in heatmap_df.columns:\n",
        "        corr_cols.append('work_interfere_encoded')\n",
        "\n",
        "    corr_matrix = heatmap_df[corr_cols].corr()\n",
        "\n",
        "    # Plot heatmap\n",
        "    plt.figure(figsize=(8, 6))\n",
        "    sns.heatmap(corr_matrix, annot=True, cmap='coolwarm', linewidths=0.5)\n",
        "    plt.title('Correlation Heatmap of Numeric and Ordinal Features')\n",
        "    plt.show()\n",
        "except Exception as e:\n",
        "    print(f\"Error generating correlation heatmap: {e}\")"
      ],
      "metadata": {
        "id": "xyC9zolEZNRQ"
      },
      "execution_count": null,
      "outputs": []
    },
    {
      "cell_type": "markdown",
      "source": [
        "##### 1. Why did you pick the specific chart?"
      ],
      "metadata": {
        "id": "UV0SzAkaZNRQ"
      }
    },
    {
      "cell_type": "markdown",
      "source": [
        "A correlation heatmap is ideal for visualizing the strength and direction of relationships between numeric and encoded ordinal variables. It helps us quickly identify any linear associations that may exist, guiding further analysis or informing feature selection for modeling."
      ],
      "metadata": {
        "id": "DVPuT8LYZNRQ"
      }
    },
    {
      "cell_type": "markdown",
      "source": [
        "##### 2. What is/are the insight(s) found from the chart?"
      ],
      "metadata": {
        "id": "YPEH6qLeZNRQ"
      }
    },
    {
      "cell_type": "markdown",
      "source": [
        "- Age shows weak or no linear correlation with leave or work_interfere encoded values, suggesting age does not significantly drive these workplace experiences.\n",
        "\n",
        "- There may be mild correlation between leave ease and work_interfere, indicating employees who find it easier to take leave may report lower interference of mental health with work.\n",
        "\n",
        "- Overall, the heatmap suggests limited linear relationships among these features."
      ],
      "metadata": {
        "id": "bfSqtnDqZNRR"
      }
    },
    {
      "cell_type": "markdown",
      "source": [
        "#### Chart - 15 - Pair Plot"
      ],
      "metadata": {
        "id": "q29F0dvdveiT"
      }
    },
    {
      "cell_type": "code",
      "source": [
        "# Pair plot: Visualize pairwise relationships between numeric and encoded ordinal features\n",
        "\n",
        "try:\n",
        "    # Reuse or create encoded features\n",
        "    pair_df = df.copy()\n",
        "\n",
        "    if 'leave' in pair_df.columns:\n",
        "        leave_map = {\n",
        "            'Very easy': 5,\n",
        "            'Somewhat easy': 4,\n",
        "            \"Don't know\": 3,\n",
        "            'Somewhat difficult': 2,\n",
        "            'Very difficult': 1\n",
        "        }\n",
        "        pair_df['leave_encoded'] = pair_df['leave'].map(leave_map)\n",
        "\n",
        "    if 'work_interfere' in pair_df.columns:\n",
        "        interfere_map = {\n",
        "            'Never': 1,\n",
        "            'Rarely': 2,\n",
        "            'Sometimes': 3,\n",
        "            'Often': 4,\n",
        "            'Always': 5,\n",
        "            \"Don't know\": 0\n",
        "        }\n",
        "        pair_df['work_interfere_encoded'] = pair_df['work_interfere'].map(interfere_map)\n",
        "\n",
        "    plot_cols = ['Age']\n",
        "    if 'leave_encoded' in pair_df.columns:\n",
        "        plot_cols.append('leave_encoded')\n",
        "    if 'work_interfere_encoded' in pair_df.columns:\n",
        "        plot_cols.append('work_interfere_encoded')\n",
        "\n",
        "    sns.pairplot(pair_df[plot_cols], corner=True, diag_kind='kde', plot_kws={'alpha': 0.6})\n",
        "    plt.suptitle('Pair Plot of Numeric and Ordinal Features', y=1.02)\n",
        "    plt.show()\n",
        "except Exception as e:\n",
        "    print(f\"Error generating pair plot: {e}\")"
      ],
      "metadata": {
        "id": "o58-TEIhveiU"
      },
      "execution_count": null,
      "outputs": []
    },
    {
      "cell_type": "markdown",
      "source": [
        "##### 1. Why did you pick the specific chart?"
      ],
      "metadata": {
        "id": "EXh0U9oCveiU"
      }
    },
    {
      "cell_type": "markdown",
      "source": [
        "A pair plot allows us to visualize pairwise relationships between multiple numeric and ordinal features at once. It provides scatter plots for each pair of variables and distributions for each individual variable. This helps us detect patterns, clusters, or outliers that may not be visible in individual plots or correlation matrices."
      ],
      "metadata": {
        "id": "eMmPjTByveiU"
      }
    },
    {
      "cell_type": "markdown",
      "source": [
        "##### 2. What is/are the insight(s) found from the chart?"
      ],
      "metadata": {
        "id": "22aHeOlLveiV"
      }
    },
    {
      "cell_type": "markdown",
      "source": [
        "- The scatter plots show no strong linear or non-linear relationships between age, leave ease, and work interference in this dataset.\n",
        "\n",
        "- The distributions highlight that most respondents fall within similar age ranges and report similar levels of leave ease and work interference.\n",
        "\n",
        "- There are no clear clusters, suggesting no subgrouping of respondents based on these features alone."
      ],
      "metadata": {
        "id": "uPQ8RGwHveiV"
      }
    },
    {
      "cell_type": "markdown",
      "source": [
        "## **5. Solution to Business Objective**"
      ],
      "metadata": {
        "id": "JcMwzZxoAimU"
      }
    },
    {
      "cell_type": "markdown",
      "source": [
        "The business objective of this EDA project was to explore the mental health landscape within the tech industry workplace, with a focus on understanding treatment-seeking behavior, workplace support systems, and employee perceptions regarding mental health. Our goal was to provide insights that would help organizations identify gaps and opportunities to strengthen their mental health policies and culture.\n",
        "\n",
        "Through detailed analysis of the survey data, we have provided a solution that meets this objective in several ways:\n",
        "\n",
        "1️⃣ Demographic Profiling:\n",
        "We identified that most respondents are in the age range of mid-20s to early 40s and predominantly identify as male. This helps organizations understand the key demographics of their workforce and design mental health initiatives that are relevant to the largest employee segments, while ensuring inclusion of underrepresented groups.\n",
        "\n",
        "2️⃣ Workplace Characteristics:\n",
        "The analysis revealed that larger companies are more likely to offer mental health benefits, while smaller companies often lack formal support. This highlights an opportunity for smaller firms to strengthen their mental health resources to match industry standards and employee expectations.\n",
        "\n",
        "3️⃣ Treatment Patterns:\n",
        "A substantial proportion of employees have sought mental health treatment, indicating a clear need for accessible and supportive mental health programs. However, barriers still exist, as seen in the portion of respondents who have not sought help. Companies can use this insight to address stigma, improve communication about available resources, and make mental health care easier to access.\n",
        "\n",
        "4️⃣ Fear of Consequences:\n",
        "Our multivariate analyses showed that fear of negative consequences from discussing mental health exists across different work settings, regardless of remote work status or company size. This points to the need for companies to create psychologically safe environments where employees feel comfortable seeking help without fear of judgment or professional risk.\n",
        "\n",
        "5️⃣ No Strong Age or Gender Barriers:\n",
        "The data did not indicate strong differences in treatment-seeking behavior based on age or gender, suggesting that mental health support efforts should be designed to reach all employees rather than targeting or excluding specific age or gender groups.\n",
        "\n",
        "6️⃣ Data-Driven Recommendations:\n",
        "By analyzing the relationship between variables such as company size, benefits, treatment, and perceptions of support, the solution equips organizations with actionable insights. These include focusing on benefit availability, creating inclusive programs, and addressing cultural barriers to mental health discussions.\n",
        "\n",
        "In summary, our solution to the business objective is a comprehensive set of data-driven insights that can help tech companies of all sizes create more inclusive, supportive, and effective mental health policies. These insights will help improve employee well-being, reduce stigma, and contribute to a healthier workplace culture that benefits both employees and the business."
      ],
      "metadata": {
        "id": "pASKb0qOza21"
      }
    },
    {
      "cell_type": "markdown",
      "source": [
        "# **Conclusion**"
      ],
      "metadata": {
        "id": "gCX9965dhzqZ"
      }
    },
    {
      "cell_type": "markdown",
      "source": [
        "This exploratory data analysis provided valuable insights into the state of mental health and workplace support within the tech industry, based on the 2014 survey dataset. Our analysis covered demographic patterns, workplace characteristics, treatment-seeking behavior, and the relationship between company support systems and employee mental health outcomes.\n",
        "\n",
        "Key findings include:\n",
        "\n",
        "- The workforce is primarily composed of employees in their mid-20s to early 40s, with a majority identifying as male.\n",
        "\n",
        "- Larger companies are more likely to offer mental health benefits, while smaller firms often lack formal support programs.\n",
        "\n",
        "- A significant portion of respondents have sought mental health treatment, indicating both awareness and need for accessible care.\n",
        "\n",
        "- Fear of negative workplace consequences persists across company sizes and remote work status, underscoring the importance of fostering safe and supportive work environments.\n",
        "\n",
        "- Age and gender alone do not appear to be major factors influencing treatment-seeking behavior, highlighting the need for mental health programs that are broadly inclusive.\n",
        "\n",
        "Overall, this EDA demonstrates that while progress has been made in some areas, significant gaps remain in mental health support within the tech sector, particularly in smaller organizations. The insights generated can guide companies in designing and implementing targeted strategies that promote mental well-being, reduce stigma, and enhance employee satisfaction and productivity."
      ],
      "metadata": {
        "id": "Fjb1IsQkh3yE"
      }
    },
    {
      "cell_type": "markdown",
      "source": [
        "#**Future Scope** #"
      ],
      "metadata": {
        "id": "fDqN8Y8ntc-C"
      }
    },
    {
      "cell_type": "markdown",
      "source": [
        "This analysis provides a solid foundation, but there are several ways it could be extended to generate even deeper, more actionable insights:\n",
        "\n",
        "1️⃣ Incorporate More Recent Data\n",
        "The dataset is from 2014. Analyzing more recent surveys (e.g. OSMI’s 2016, 2017 or newer datasets) could reveal how workplace mental health support has evolved, especially after major shifts like remote work during the COVID-19 pandemic.\n",
        "\n",
        "2️⃣ Perform Predictive Modeling\n",
        "Building machine learning models (e.g., logistic regression, decision trees) could help predict which employees are most likely to seek treatment based on demographic and workplace features, allowing targeted interventions.\n",
        "\n",
        "3️⃣ Sentiment and Text Analysis of Comments\n",
        "A deeper natural language processing (NLP) analysis of the comments column could provide qualitative insights into employee concerns and suggestions regarding mental health.\n",
        "\n",
        "4️⃣ Regional and Cultural Comparisons\n",
        "Comparing mental health support patterns across countries and regions could guide localized strategies that respect cultural differences.\n",
        "\n",
        "5️⃣ Longitudinal Studies\n",
        "Tracking mental health support trends over time in the same companies (if data were available) would help assess the impact of initiatives and policy changes.\n",
        "\n",
        "6️⃣ Interactive Dashboards\n",
        "Converting this static analysis into interactive dashboards (using tools like Power BI, Tableau, or Plotly Dash) would allow HR teams and decision makers to explore data dynamically."
      ],
      "metadata": {
        "id": "gIfDvo9L0UH2"
      }
    }
  ]
}